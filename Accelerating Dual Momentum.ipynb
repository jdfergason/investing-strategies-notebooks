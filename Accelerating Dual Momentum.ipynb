{
 "cells": [
  {
   "cell_type": "code",
   "execution_count": 1,
   "metadata": {},
   "outputs": [],
   "source": [
    "in_funds = ['VFINX', 'PRIDX']\n",
    "out_funds = ['VUSTX']"
   ]
  },
  {
   "cell_type": "code",
   "execution_count": null,
   "metadata": {},
   "outputs": [],
   "source": [
    "import yfinance as yf\n",
    "\n",
    "# Download historical data\n",
    "data = {}\n",
    "all_funds = in_funds + out_funds\n",
    "for symbol in all_funds:\n",
    "    print(symbol)\n",
    "    yf_ticker = yf.Ticker(symbol)\n",
    "    yf_data = yf_ticker.history(period='max')\n",
    "    data[symbol] = yf_data"
   ]
  },
  {
   "cell_type": "code",
   "execution_count": null,
   "metadata": {},
   "outputs": [],
   "source": [
    "import pandas\n",
    "import datetime\n",
    "from dateutil.relativedelta import relativedelta\n",
    "\n",
    "def lastyear_period_start(current_date):\n",
    "    last_year = current_date - relativedelta(months=11)\n",
    "    return datetime.date(last_year.year, last_year.month, 1)"
   ]
  }
 ],
 "metadata": {
  "kernelspec": {
   "display_name": "Python 3",
   "language": "python",
   "name": "python3"
  },
  "language_info": {
   "codemirror_mode": {
    "name": "ipython",
    "version": 3
   },
   "file_extension": ".py",
   "mimetype": "text/x-python",
   "name": "python",
   "nbconvert_exporter": "python",
   "pygments_lexer": "ipython3",
   "version": "3.8.3"
  }
 },
 "nbformat": 4,
 "nbformat_minor": 4
}
