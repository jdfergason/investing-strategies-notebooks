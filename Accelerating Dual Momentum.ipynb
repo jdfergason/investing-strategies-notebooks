{
 "cells": [
  {
   "cell_type": "code",
   "execution_count": 2,
   "metadata": {},
   "outputs": [],
   "source": [
    "in_funds = ['VFINX', 'PRIDX']\n",
    "out_funds = ['VUSTX']"
   ]
  },
  {
   "cell_type": "code",
   "execution_count": 3,
   "metadata": {},
   "outputs": [
    {
     "name": "stdout",
     "output_type": "stream",
     "text": [
      "VFINX\n",
      "PRIDX\n",
      "VUSTX\n"
     ]
    }
   ],
   "source": [
    "import yfinance as yf\n",
    "\n",
    "# Download historical data\n",
    "data = {}\n",
    "all_funds = in_funds + out_funds\n",
    "for symbol in all_funds:\n",
    "    print(symbol)\n",
    "    yf_ticker = yf.Ticker(symbol)\n",
    "    yf_data = yf_ticker.history(period='max')\n",
    "    data[symbol] = yf_data"
   ]
  },
  {
   "cell_type": "code",
   "execution_count": 5,
   "metadata": {},
   "outputs": [],
   "source": [
    "# Select only month-end prices\n",
    "monthend = {}\n",
    "for symbol, df in data.items():\n",
    "    day1 = list(df.index.month)\n",
    "    day2 = list(df.index.month)\n",
    "    day2.pop(0)\n",
    "    day2.append(-1)\n",
    "    days = zip(day1, day2)\n",
    "    truth_vals = [False if x[0] == x[1] else True for x in days]\n",
    "    df_month_end = df[truth_vals]\n",
    "    monthend[symbol] = df_month_end"
   ]
  },
  {
   "cell_type": "code",
   "execution_count": null,
   "metadata": {},
   "outputs": [],
   "source": [
    "# Calculate momentum signals"
   ]
  }
 ],
 "metadata": {
  "kernelspec": {
   "display_name": "Python 3",
   "language": "python",
   "name": "python3"
  },
  "language_info": {
   "codemirror_mode": {
    "name": "ipython",
    "version": 3
   },
   "file_extension": ".py",
   "mimetype": "text/x-python",
   "name": "python",
   "nbconvert_exporter": "python",
   "pygments_lexer": "ipython3",
   "version": "3.8.3"
  }
 },
 "nbformat": 4,
 "nbformat_minor": 4
}
