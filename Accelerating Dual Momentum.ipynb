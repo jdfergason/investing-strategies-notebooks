{
 "cells": [
  {
   "cell_type": "code",
   "execution_count": 1,
   "metadata": {},
   "outputs": [],
   "source": [
    "in_funds = ['VFINX', 'PRIDX']\n",
    "out_funds = ['VUSTX']"
   ]
  },
  {
   "cell_type": "code",
   "execution_count": 2,
   "metadata": {},
   "outputs": [
    {
     "name": "stdout",
     "output_type": "stream",
     "text": [
      "VFINX\n",
      "PRIDX\n",
      "VUSTX\n"
     ]
    }
   ],
   "source": [
    "import yfinance as yf\n",
    "\n",
    "# Download historical data\n",
    "data = {}\n",
    "all_funds = in_funds + out_funds\n",
    "for symbol in all_funds:\n",
    "    print(symbol)\n",
    "    yf_ticker = yf.Ticker(symbol)\n",
    "    yf_data = yf_ticker.history(period='max')\n",
    "    data[symbol] = yf_data"
   ]
  },
  {
   "cell_type": "code",
   "execution_count": 3,
   "metadata": {},
   "outputs": [],
   "source": [
    "# Select only month-end prices\n",
    "monthend = {}\n",
    "for symbol, df in data.items():\n",
    "    day1 = list(df.index.month)\n",
    "    day2 = list(df.index.month)\n",
    "    day2.pop(0)\n",
    "    day2.append(-1)\n",
    "    days = zip(day1, day2)\n",
    "    truth_vals = [False if x[0] == x[1] else True for x in days]\n",
    "    df_month_end = df[truth_vals].copy()\n",
    "    monthend[symbol] = df_month_end"
   ]
  },
  {
   "cell_type": "code",
   "execution_count": 4,
   "metadata": {},
   "outputs": [],
   "source": [
    "# Calculate momentum signals\n",
    "import numpy\n",
    "\n",
    "# 1-month momentum\n",
    "for symbol, df in monthend.items():\n",
    "    close = numpy.array(df['Close'])\n",
    "    momentum1 = (((close[1:]/close[:-1])-1)*100)\n",
    "    momentum1 = numpy.insert(momentum1, 0, 0)\n",
    "    df['Momentum1'] = momentum1\n",
    "\n",
    "# 3-month momentum\n",
    "for symbol, df in monthend.items():\n",
    "    close = numpy.array(df['Close'])\n",
    "    momentum3 = (((close[3:]/close[:-3])-1)*100)\n",
    "    momentum3 = numpy.insert(momentum3, 0, [0, 0, 0])\n",
    "    df['Momentum3'] = momentum3\n",
    "\n",
    "# 6-month momentum\n",
    "for symbol, df in monthend.items():\n",
    "    close = numpy.array(df['Close'])\n",
    "    momentum6 = (((close[6:]/close[:-6])-1)*100)\n",
    "    momentum6 = numpy.insert(momentum6, 0, [0, 0, 0, 0, 0, 0])\n",
    "    df['Momentum6'] = momentum6\n",
    "\n",
    "# ADM Signal\n",
    "for symbol, df in monthend.items():\n",
    "    momentums = numpy.array((df['Momentum1'], df['Momentum3'], df['Momentum6']))\n",
    "    df['ADMSignal'] = numpy.average(momentums, axis=0)"
   ]
  },
  {
   "cell_type": "code",
   "execution_count": 5,
   "metadata": {},
   "outputs": [
    {
     "name": "stdout",
     "output_type": "stream",
     "text": [
      "            VFINX-ADMSignal  PRIDX-ADMSignal\n",
      "Date                                        \n",
      "1988-12-30         2.696485         0.000000\n",
      "1989-01-31         8.745183         1.393035\n",
      "1989-02-28         5.477646         0.095511\n",
      "1989-03-31         6.517398         1.297797\n",
      "1989-04-28         7.655554         2.483286\n",
      "...                     ...              ...\n",
      "2020-03-31       -14.820500       -16.504324\n",
      "2020-04-30         0.075828         0.524241\n",
      "2020-05-29         2.025616         6.813656\n",
      "2020-06-30         6.426191        13.170344\n",
      "2020-07-08         3.524771        10.583333\n",
      "\n",
      "[380 rows x 2 columns]\n"
     ]
    }
   ],
   "source": [
    "# Align time-axis for all symbols\n",
    "import pandas\n",
    "merged = None\n",
    "for symbol, df in monthend.items():\n",
    "    if not symbol in in_funds:\n",
    "        continue\n",
    "    if merged is None:\n",
    "        merged = pandas.DataFrame(df['ADMSignal'])\n",
    "        merged[f'{symbol}-ADMSignal'] = merged['ADMSignal']\n",
    "        merged = merged.drop(columns=['ADMSignal'])\n",
    "    else:\n",
    "        df2 = pandas.DataFrame(df['ADMSignal'])\n",
    "        df2[f'{symbol}-ADMSignal'] = df2['ADMSignal']\n",
    "        df2 = df2.drop(columns=['ADMSignal'])\n",
    "        merged = merged.merge(df2, how='inner', on='Date')\n",
    "time_aligned = merged\n",
    "print(time_aligned)"
   ]
  },
  {
   "cell_type": "code",
   "execution_count": 8,
   "metadata": {},
   "outputs": [],
   "source": [
    "# Build portfolio\n",
    "symbols = pandas.DataFrame(time_aligned.idxmax(axis=1), columns=['Symbol'])\n",
    "symbols['Symbol'] = [x.split('-')[0] for x in symbols['Symbol']]\n",
    "signal  = pandas.DataFrame(time_aligned.max(axis=1), columns=['Signal'])\n",
    "in_signal = symbols.merge(signal, how='inner', on='Date')\n",
    "for idx in in_signal[in_signal['Signal'] < 0].index:\n",
    "    in_signal.loc[idx, 'Symbol'] = 'VUSTX'\n",
    "portfolio = in_signal"
   ]
  },
  {
   "cell_type": "code",
   "execution_count": 9,
   "metadata": {},
   "outputs": [
    {
     "data": {
      "text/html": [
       "<div>\n",
       "<style scoped>\n",
       "    .dataframe tbody tr th:only-of-type {\n",
       "        vertical-align: middle;\n",
       "    }\n",
       "\n",
       "    .dataframe tbody tr th {\n",
       "        vertical-align: top;\n",
       "    }\n",
       "\n",
       "    .dataframe thead th {\n",
       "        text-align: right;\n",
       "    }\n",
       "</style>\n",
       "<table border=\"1\" class=\"dataframe\">\n",
       "  <thead>\n",
       "    <tr style=\"text-align: right;\">\n",
       "      <th></th>\n",
       "      <th>Symbol</th>\n",
       "      <th>Signal</th>\n",
       "    </tr>\n",
       "    <tr>\n",
       "      <th>Date</th>\n",
       "      <th></th>\n",
       "      <th></th>\n",
       "    </tr>\n",
       "  </thead>\n",
       "  <tbody>\n",
       "    <tr>\n",
       "      <th>2020-03-31</th>\n",
       "      <td>VUSTX</td>\n",
       "      <td>-14.820500</td>\n",
       "    </tr>\n",
       "    <tr>\n",
       "      <th>2020-04-30</th>\n",
       "      <td>PRIDX</td>\n",
       "      <td>0.524241</td>\n",
       "    </tr>\n",
       "    <tr>\n",
       "      <th>2020-05-29</th>\n",
       "      <td>PRIDX</td>\n",
       "      <td>6.813656</td>\n",
       "    </tr>\n",
       "    <tr>\n",
       "      <th>2020-06-30</th>\n",
       "      <td>PRIDX</td>\n",
       "      <td>13.170344</td>\n",
       "    </tr>\n",
       "    <tr>\n",
       "      <th>2020-07-08</th>\n",
       "      <td>PRIDX</td>\n",
       "      <td>10.583333</td>\n",
       "    </tr>\n",
       "  </tbody>\n",
       "</table>\n",
       "</div>"
      ],
      "text/plain": [
       "           Symbol     Signal\n",
       "Date                        \n",
       "2020-03-31  VUSTX -14.820500\n",
       "2020-04-30  PRIDX   0.524241\n",
       "2020-05-29  PRIDX   6.813656\n",
       "2020-06-30  PRIDX  13.170344\n",
       "2020-07-08  PRIDX  10.583333"
      ]
     },
     "execution_count": 9,
     "metadata": {},
     "output_type": "execute_result"
    }
   ],
   "source": [
    "# Print out last few items, to show what should be purchased\n",
    "portfolio.tail()"
   ]
  },
  {
   "cell_type": "code",
   "execution_count": null,
   "metadata": {},
   "outputs": [],
   "source": []
  }
 ],
 "metadata": {
  "kernelspec": {
   "display_name": "Python 3",
   "language": "python",
   "name": "python3"
  },
  "language_info": {
   "codemirror_mode": {
    "name": "ipython",
    "version": 3
   },
   "file_extension": ".py",
   "mimetype": "text/x-python",
   "name": "python",
   "nbconvert_exporter": "python",
   "pygments_lexer": "ipython3",
   "version": "3.8.3"
  }
 },
 "nbformat": 4,
 "nbformat_minor": 4
}
